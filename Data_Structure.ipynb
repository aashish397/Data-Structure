{
  "nbformat": 4,
  "nbformat_minor": 0,
  "metadata": {
    "colab": {
      "provenance": []
    },
    "kernelspec": {
      "name": "python3",
      "display_name": "Python 3"
    },
    "language_info": {
      "name": "python"
    }
  },
  "cells": [
    {
      "cell_type": "markdown",
      "source": [
        "        * Data Structure Assignment *\n",
        "\n",
        " 1. What are Data structure and why are they important?\n",
        " -> Data structures are ways of organizing, managing, and storing data so that it can be accessed and modified efficiently. They are critical for handling large amounts of data and for optimizing various operations like searching, insertion, deletion, and updating.    \n",
        " Importance of Data structure:\n",
        " Efficiency: Data structures allow for more efficient use of memory and can optimize the time complexity of various algorithms. For example, searching for an element in a sorted array is faster than searching in an unsorted one.\n",
        "  1.Problem Solving: Many algorithms rely on specific data structures to perform tasks like sorting, pathfinding, or tree traversal. Using the right data structure can simplify the problem-solving process.\n",
        "  2.Optimized Operations: By choosing the right data structure, you can minimize operations like searching and insertion from linear time (O(n)) to logarithmic time (O(log n)) or constant time (O(1)).\n",
        "  3.Real-World Applications: From databases to networks, from operating systems to web servers, data structures are at the heart of efficient and scalable software. For example, a database index uses a tree structure to quickly locate data, and a web crawler might use a graph structure to explore the web.\n",
        "  4.Resource Management: Properly using data structures ensures that resources like memory and processing power are used effectively, especially when dealing with large datasets\n",
        "\n",
        "2.Explain the diiference between mutable and immutable data types with examples.\n",
        "-> 1. Mutable Data Types\n",
        "Mutable data types are types where the data (or content) can be changed or modified after the object has been created. You can alter the values or elements within the object without creating a new instance of the object.\n",
        "examples: list,dictionaries sets are mutable i.e. changes can be made.\n",
        "\n",
        "2. Immutable Data Types:\n",
        "Immutable data types are types where the data cannot be changed or modified once the object is created. If you try to modify an immutable object, a new object is created, and the original object remains unchanged.\n",
        "examples: string,tuples changes cannot be made\n",
        "\n",
        "\n",
        "\n",
        "\n",
        "\n",
        "\n",
        "\n",
        "\n",
        "\n",
        "\n"
      ],
      "metadata": {
        "id": "0GAkaa45bfdM"
      }
    },
    {
      "cell_type": "code",
      "source": [
        "# example of mutable data type\n",
        "my_list = [1, 2, 3]\n",
        "print(my_list)\n",
        "my_list[0] = 10\n",
        "my_list.append(4)\n",
        "print(my_list)"
      ],
      "metadata": {
        "colab": {
          "base_uri": "https://localhost:8080/"
        },
        "id": "fNWSDgL-f-Qj",
        "outputId": "3953afb4-769f-4641-9ef4-496ab7706b10"
      },
      "execution_count": 2,
      "outputs": [
        {
          "output_type": "stream",
          "name": "stdout",
          "text": [
            "[1, 2, 3]\n",
            "[10, 2, 3, 4]\n",
            "hello\n",
            "Hello\n"
          ]
        }
      ]
    },
    {
      "cell_type": "code",
      "source": [
        "# example of immutable data type\n",
        "my_string = \"hello\"\n",
        "print(my_string)\n",
        "my_string[0] = 'H' # changes cannot be made"
      ],
      "metadata": {
        "colab": {
          "base_uri": "https://localhost:8080/",
          "height": 198
        },
        "id": "uwoz92HdhExU",
        "outputId": "f1bd5ded-80c9-4139-cc44-51f333fccff3"
      },
      "execution_count": 5,
      "outputs": [
        {
          "output_type": "stream",
          "name": "stdout",
          "text": [
            "hello\n"
          ]
        },
        {
          "output_type": "error",
          "ename": "TypeError",
          "evalue": "'str' object does not support item assignment",
          "traceback": [
            "\u001b[0;31m---------------------------------------------------------------------------\u001b[0m",
            "\u001b[0;31mTypeError\u001b[0m                                 Traceback (most recent call last)",
            "\u001b[0;32m<ipython-input-5-cbf9181c09b7>\u001b[0m in \u001b[0;36m<cell line: 0>\u001b[0;34m()\u001b[0m\n\u001b[1;32m      2\u001b[0m \u001b[0mmy_string\u001b[0m \u001b[0;34m=\u001b[0m \u001b[0;34m\"hello\"\u001b[0m\u001b[0;34m\u001b[0m\u001b[0;34m\u001b[0m\u001b[0m\n\u001b[1;32m      3\u001b[0m \u001b[0mprint\u001b[0m\u001b[0;34m(\u001b[0m\u001b[0mmy_string\u001b[0m\u001b[0;34m)\u001b[0m\u001b[0;34m\u001b[0m\u001b[0;34m\u001b[0m\u001b[0m\n\u001b[0;32m----> 4\u001b[0;31m \u001b[0mmy_string\u001b[0m\u001b[0;34m[\u001b[0m\u001b[0;36m0\u001b[0m\u001b[0;34m]\u001b[0m \u001b[0;34m=\u001b[0m \u001b[0;34m'H'\u001b[0m \u001b[0;31m# changes cannot be made\u001b[0m\u001b[0;34m\u001b[0m\u001b[0;34m\u001b[0m\u001b[0m\n\u001b[0m",
            "\u001b[0;31mTypeError\u001b[0m: 'str' object does not support item assignment"
          ]
        }
      ]
    },
    {
      "cell_type": "markdown",
      "source": [
        "3. What are the main differences between lists and tuples in python?\n",
        "-> In Python, both lists and tuples are used to store collections of items, but they have some key differences. Here's a breakdown of the main differences:\n",
        "1. Mutability\n",
        "Lists are mutable, meaning you can modify their contents after creation (ex., add, remove, or change elements).\n",
        "Tuples are immutable, meaning their contents cannot be changed after creation. Once a tuple is defined, its elements cannot be modified, added, or removed.\n",
        "2. Syntax\n",
        "Lists are created using square brackets [].\n",
        "Tuples are created using parentheses ().\n",
        "<< Lists have more built-in methods because they are mutable. Common methods include append(), extend(), remove(), pop(), and sort().\n",
        "<< Tuples have only a limited set of methods, such as count() and index(), because they are immutable.\n",
        "3. Usecases\n",
        "Lists are ideal when you need a collection of items that can change during the program's execution (e.g., when you're adding or removing items).\n",
        "Tuples are ideal when you need a collection of items that should remain constant and unmodified. They are often used as keys in dictionaries because of their immutability.\n",
        "\n",
        "4. Describe how dictionaries store data\n",
        "-> In Python, dictionaries are a type of unordered collection that store data in the form of key-value pairs. They provide a way to associate one piece of data (the key) with another (the value).\n",
        "\n",
        "5. Why might you use a set instead of a list in python?\n",
        "-> In Python, sets and lists are both used to store collections of data, but there are specific situations where using a set is more advantageous than using a list.\n",
        "Sets automatically ensure that all elements are unique. If you add duplicate elements to a set, they are ignored.\n",
        "Lists, on the other hand, allow duplicates, meaning you need to manually filter out duplicates if you want a collection of unique values.\n",
        "When to use a set: If you need to store a collection of items and you want to ensure that there are no duplicates in the collection, a set is the ideal choice.\n",
        "Sets are unordered collections, which means the elements are not stored in a specific order. This can be an advantage if you don't care about the order of elements and just need a collection of unique items.\n",
        "Lists are ordered collections, meaning the elements maintain their order of insertion. If order is important for your application, you should use a list.\n",
        "In general, sets are more optimized for operations where uniqueness, fast membership testing, and mathematical set operations are needed. Lists are more useful when order and duplication are important factors.\n",
        "\n",
        "6. What is a string in python, and how is it different from a list?\n",
        "-> A string in Python is an immutable sequence of characters, which means once a string is created, it cannot be modified. You can think of a string as a collection of characters, each identified by its index position. You can use strings to store and manipulate text.\n",
        "Immutability: Strings are immutable, meaning their content can't be changed after creation. Lists, however, are mutable, meaning you can change their content.\n",
        "Data Types: Strings are specifically for text, while lists can hold any type of data (e.g., numbers, strings, objects, etc.).\n",
        "Methods: Strings have string-specific methods (e.g., .lower(), .split()), while lists have methods for modifying the collection (e.g., .append(), .remove()).\n",
        "Use Cases: Use strings for textual data and manipulation, and use lists when you need to store a collection of elements that might change or contain different types of data.\n",
        "In essence, strings are useful when working with text, and lists are versatile collections for handling a variety of data types\n",
        "\n",
        "7. How do tuples ensure data integrity in python?\n",
        "-> In Python, tuples ensure data integrity by being immutable. This immutability means that once a tuple is created, its contents cannot be changed, modified, or updated.\n",
        "Tuples are immutable, meaning once you create a tuple, you cannot change its elements, add new elements, or remove elements.\n",
        "This ensures that the data stored in the tuple remains consistent and unaltered throughout the program.\n",
        "Since tuples are immutable, they prevent accidental modifications of data, which can help maintain data integrity.\n",
        "This is particularly important when tuples are used as keys in dictionaries or elements in sets. In these cases, the integrity of the data is essential for the correct functioning of data structures like hash tables.\n",
        "By being immutable, tuples guarantee that their data will remain unchanged, ensuring data integrity across different parts of a program\n",
        "\n",
        "8. What is Hash table,and how does it relate to dictionaries in python?\n",
        "-> A hash table (or hash map) is a data structure that provides an efficient way to store and retrieve key-value pairs.\n",
        "In Python, the dict (dictionary) is the built-in data structure that implements a hash table. Python dictionaries provide a fast and efficient way to store and retrieve key-value pairs using a hash table internally.\n",
        "Key Features of Python Dictionaries (which are backed by hash tables):\n",
        "Unordered:\n",
        " Dictionaries do not guarantee the order of the elements (although in Python 3.7 and later, they maintain the insertion order).\n",
        "Efficient Lookups:\n",
        " The average time complexity for looking up a value by key is O(1), which is very efficient\n",
        "Unique Keys:\n",
        "Dictionary keys must be unique, but values can be duplicated.\n",
        "\n",
        "9. Can lists contain different data types in python?\n",
        "-> Yes, lists in Python can contain elements of different data types. One of the strengths of Python lists is their ability to store heterogeneous data, meaning you can mix various types of data within the same list.\n",
        "\n",
        "10. Explain why string are immutable in python?\n",
        "-> In Python, strings are immutable, meaning that once a string is created, its content cannot be changed. This immutability is a core design feature of strings in Python and is due to several reasons that are related to performance, efficiency, and consistency.\n",
        "When a string is immutable, Python can optimize memory usage. It can reuse the same string object whenever it appears multiple times in a program. This is because, since strings cannot be modified, Python doesn't need to worry about changes to strings in memory, making it more efficient to store and share them.\n",
        "Since strings are immutable, Python can safely cache them in certain places, such as in the string pool (interning). This means that if a string with the same content is created multiple times, Python doesn't need to create new objects each time. Instead, it can reuse the existing string object, which is more memory efficient\n",
        "\n",
        "11. What advantages do dictionaries offer over lists for a certain tasks?\n",
        "-> Dictionaries in Python offer several advantages over lists when it comes to specific tasks, especially when you need to associate unique keys with values and efficiently look up, insert, or modify data.\n",
        " * Dictionaries provide constant-time access (O(1) on average) to values based on their keys, which makes them highly efficient when you need to retrieve or modify values associated with a particular key. In contrast, lists require linear search time (O(n)) to find an element by its value, which can be slower for large collections.\n",
        " * Dictionaries are designed to store key-value pairs, where each key must be unique, and you can easily access the corresponding value using that key. This is ideal for tasks where you need to store and retrieve data based on a unique identifier (key), such as a student record system, inventory management, or user profiles.\n",
        " * Dictionaries allow you to use different types as keys, such as strings, numbers, or even tuples (as long as they are hashable). This is useful when you need to associate data with different types of keys.\n",
        "\n",
        " 12. Describe a scenario where using a tuple would be preferable over a list.\n",
        " -> A tuple is preferable over a list in scenarios where the data is immutable (i.e., it shouldn't change once created) or where data integrity and performance are important.\n",
        " Scenario:\n",
        "  Storing Coordinates of a Location (Latitude and Longitude)\n",
        "Let's say you're working on a mapping application that needs to store geographical coordinates (latitude and longitude) for locations. These coordinates should not change once they are set because the location is fixed. Here, using a tuple would be ideal because:\n",
        "Immutability: The coordinates shouldn't be modified once they are set, which ensures data integrity. Tuples are immutable, so once the coordinates are assigned, you can be confident they won't accidentally change.\n",
        "Performance: Since tuples are more lightweight and optimized for immutability, they are faster to access and take up less memory compared to lists. If the coordinates are stored in many places within your program, this can improve efficiency.\n",
        "Semantic Meaning: Using a tuple also makes the code more expressive, as it clearly indicates that the data (coordinates) should not change, while a list would imply that the data could be modified.\n",
        "\n",
        "13. How do sets handle duplicate values in python?\n",
        "-> In Python, sets automatically handle duplicate values by removing duplicates. A set is an unordered collection of unique elements, which means that it only keeps one copy of each distinct element and ignores any duplicates.\n",
        "\n",
        "14. How does the 'in' keyword work differently for lists and dictionaries?\n",
        "-> The in keyword in Python is used to check for membership, but it works differently for lists and dictionaries due to their different structures.\n",
        " When you use in with a list, Python checks if the specified element exists anywhere in the list. It performs a linear search through the entire list to check if the element is present.\n",
        " When you use in with a dictionary, Python checks if the key exists in the dictionary, not the value. By default, the in keyword checks for keys.\n",
        "\n",
        " 15. Can you modify the elements of a tuple? Explain why or why not.\n",
        " -> No, you cannot modify the elements of a tuple in Python. This is because tuples are immutable,once a tuple is created, its contents cannot be changed, modified, or updated.\n",
        " Tuples do not allow item assignment or modification as demonstrated above. This is what makes them immutable.\n",
        " Python designed tuples to be immutable to ensure that the data remains unchanged once it’s created, which can help prevent errors and bugs caused by unintentional data modifications.\n",
        "\n",
        " 16. What is a nested dictionary,and give an example of its usecases\n",
        " ->  A nested dictionary in Python is simply a dictionary where the values of some or all of its keys are themselves dictionaries. In other words, it's a dictionary within another dictionary, and you can think of it as a hierarchical or multi-level structure. This allows you to represent more complex relationships and organize data in a more structured way.\n",
        " Use Cases for Nested Dictionaries:\n",
        " Nested dictionaries are commonly used when you need to represent hierarchical data or group data in multiple levels.\n",
        "\n",
        " 17. Describe the time complexity of accessing elements in a dictionary.\n",
        " ->  The time complexity of accessing elements in a dictionary in Python is O(1) on average. This means that, in most cases, accessing a value using a key in a dictionary takes constant time, regardless of the size of the dictionary.\n",
        " Dictionaries in Python are implemented as hash tables. A hash table stores data in a way that allows fast lookups. Here's a simplified breakdown of how this works:\n",
        " Hashing: When you use a key to access a value in a dictionary, Python applies a hash function to the key. This hash function converts the key into a unique integer (the hash value), which is then used to determine the position of the key-value pair in the underlying array.\n",
        " Direct Lookup: Once the position is determined using the hash, the value associated with the key is stored at that position, allowing for direct access. This process of converting a key to an index using a hash is what enables constant time complexity (O(1)).\n",
        "\n",
        "18. In what situations are lists preferred over dictionaries?\n",
        "->  In Python, lists and dictionaries are both versatile data structures, but they are best suited to different types of tasks.\n",
        "1. Ordered Collections:\n",
        "Use case: When you need to preserve the order of elements or work with sequential data.\n",
        "Reason: Lists are ordered, that is the elements maintain their insertion order. If the order in which you add or access elements matters (e.g., processing a sequence of items in the order they were added), then lists are more suitable. With a list, you can access elements by index and iterate over them in the exact order in which they were added.\n",
        "2. Accessing by Index:\n",
        "Use case: When you need to access elements using a numeric index.\n",
        "Reason: Lists allow you to access elements using an integer index (e.g., my_list[2]), which is efficient for positional access.\n",
        "Dictionaries do not support indexed access directly, as they are key-value pairs.\n",
        "3. Homogeneous Data (Same Type):\n",
        "Use case: When you have a collection of similar items.\n",
        "Reason: Lists are typically used to store ordered collections of the same type of data, such as integers, strings, or other objects. While you can mix data types in lists, it’s more common and efficient when storing homogeneous data.\n",
        "Dictionaries are often used when you need to associate different types of data (key-value pairs).\n",
        "\n",
        "19. Why are dictionaries considered unordered, and how does that affect data retrieval?\n",
        "-> In Python, dictionaries are considered unordered because they do not guarantee the order of elements (key-value pairs) in the way that lists do. This characteristic is due to the way dictionaries are implemented internally.\n",
        "Since dictionaries do not guarantee insertion order, you cannot assume that iterating over the dictionary will give you the items in the order they were added.\n",
        "Direct Access via Key: Despite the unordered nature, you can still access the elements in a dictionary efficiently using the key. This is because dictionaries provide constant-time O(1) average access to values based on keys. The hashing mechanism ensures fast lookups by key.\n",
        "Effect on data retrieval:\n",
        "Order: Dictionaries do not guarantee the order of key-value pairs. In Python, they do preserve insertion order, but this is not guaranteed across all versions.\n",
        "Data retrieval: You can retrieve values quickly and efficiently using the key (average O(1) time complexity), regardless of the insertion order.\n",
        "\n",
        "20. Explain the difference between a list and a dictionary in terms of data retrieval.\n",
        "-> The difference between a list and a dictionary in terms of data retrieval lies mainly in how the data is stored, accessed, and organized.\n",
        " List: A list is an ordered collection of elements, indexed by integers (starting from 0). Each element in the list is stored in a specific order, and the index represents the position of the element in the list.\n",
        " Dictionary: A dictionary is an unordered collection of key-value pairs. Each value in a dictionary is associated with a unique key, and the key is used to access the corresponding value. In a dictionary, you do not use numerical indices to access elements; you use keys\n",
        "- List: In a list, you retrieve data by using the index of the element. The index represents the position of the element in the list. Retrieval involves referencing the element by its index.\n",
        "- Time Complexity: The time complexity for retrieving an element by index in a list is O(1) (constant time), meaning it is fast and does not depend on the size of the list.\n",
        "- Dictionary: In a dictionary, you retrieve data by using the key associated with the value. The key acts as a unique identifier for the value. Retrieval involves looking up the key in the dictionary.\n",
        "- Time Complexity: The time complexity for retrieving a value using a key in a dictionary is O(1) (average-case constant time). This is because dictionaries are implemented using hash tables, which allow for efficient key-based lookups.\n",
        "\n",
        "\n",
        "\n"
      ],
      "metadata": {
        "id": "OPPkjgeVhclP"
      }
    },
    {
      "cell_type": "markdown",
      "source": [
        "                  * Practical Questions *\n",
        "        \n",
        "1. Write a code to create a string with your name and print it.\n"
      ],
      "metadata": {
        "id": "cbPZ9Ssg7YEV"
      }
    },
    {
      "cell_type": "code",
      "source": [
        "str_1 = \"Aditi Patil\"\n",
        "print(str_1)"
      ],
      "metadata": {
        "colab": {
          "base_uri": "https://localhost:8080/"
        },
        "id": "wurV9j1n7qpZ",
        "outputId": "fb823641-8080-4912-f7ec-215c15cad1ff"
      },
      "execution_count": 1,
      "outputs": [
        {
          "output_type": "stream",
          "name": "stdout",
          "text": [
            "Aditi Patil\n"
          ]
        }
      ]
    },
    {
      "cell_type": "markdown",
      "source": [
        "2. Write a code to find the length of the string \"Hello World\""
      ],
      "metadata": {
        "id": "JDX8qe1379US"
      }
    },
    {
      "cell_type": "code",
      "source": [
        "str_1 = \"Hello World\"\n",
        "character_count = len(str_1)\n",
        "print(character_count)"
      ],
      "metadata": {
        "colab": {
          "base_uri": "https://localhost:8080/"
        },
        "id": "M1FxpyNM8F4_",
        "outputId": "6f8791d7-86fa-43e2-e832-8ce0fe66a94d"
      },
      "execution_count": 4,
      "outputs": [
        {
          "output_type": "stream",
          "name": "stdout",
          "text": [
            "11\n"
          ]
        }
      ]
    },
    {
      "cell_type": "markdown",
      "source": [
        "3. Write a code to slice the first 3 characters from the string \"Python Programming\"\n"
      ],
      "metadata": {
        "id": "dnqNKY2X8xO7"
      }
    },
    {
      "cell_type": "code",
      "source": [
        "input_string = \"Python Programming\"\n",
        "sliced_string = input_string[:3]\n",
        "print(sliced_string)"
      ],
      "metadata": {
        "colab": {
          "base_uri": "https://localhost:8080/"
        },
        "id": "6Qw-LGve88-_",
        "outputId": "8c27a110-6950-49ef-a9be-51506354ca2b"
      },
      "execution_count": 6,
      "outputs": [
        {
          "output_type": "stream",
          "name": "stdout",
          "text": [
            "Pyt\n"
          ]
        }
      ]
    },
    {
      "cell_type": "markdown",
      "source": [
        "4. Write a code to convert the code \"hello\" to uppercase."
      ],
      "metadata": {
        "id": "hxFPg8E99Y0w"
      }
    },
    {
      "cell_type": "code",
      "source": [
        "input_string = \"hello\"\n",
        "uppercase_string = input_string.upper()\n",
        "print(uppercase_string)"
      ],
      "metadata": {
        "colab": {
          "base_uri": "https://localhost:8080/"
        },
        "id": "gocgB9oW9f_U",
        "outputId": "cd176a51-09e6-49c9-d1fd-a4c21a458d80"
      },
      "execution_count": 7,
      "outputs": [
        {
          "output_type": "stream",
          "name": "stdout",
          "text": [
            "HELLO\n"
          ]
        }
      ]
    },
    {
      "cell_type": "markdown",
      "source": [
        "5. Write a code to replace the word 'apple' with 'orange' in the string \"I like apple\""
      ],
      "metadata": {
        "id": "yqCkLZ2U9tme"
      }
    },
    {
      "cell_type": "code",
      "source": [
        "input_string = (\"Apple, I like apple\")\n",
        "print(input_string.replace(\"Apple\",\"Orange\"))"
      ],
      "metadata": {
        "colab": {
          "base_uri": "https://localhost:8080/"
        },
        "id": "8nqTllqW9-RG",
        "outputId": "53298196-082c-4068-a885-902656f5247d"
      },
      "execution_count": 22,
      "outputs": [
        {
          "output_type": "stream",
          "name": "stdout",
          "text": [
            "Orange, I like apple\n"
          ]
        }
      ]
    },
    {
      "cell_type": "markdown",
      "source": [
        "6. Write a code to create a list with numbers 1 to 5 and print it."
      ],
      "metadata": {
        "id": "vyyINWdpK51u"
      }
    },
    {
      "cell_type": "code",
      "source": [
        "l = [1,2,3,4,5]\n",
        "print(l)"
      ],
      "metadata": {
        "colab": {
          "base_uri": "https://localhost:8080/"
        },
        "id": "5guWzCzjLMhs",
        "outputId": "a4b70344-33a8-40ba-8c71-e81776693dee"
      },
      "execution_count": 23,
      "outputs": [
        {
          "output_type": "stream",
          "name": "stdout",
          "text": [
            "[1, 2, 3, 4, 5]\n"
          ]
        }
      ]
    },
    {
      "cell_type": "markdown",
      "source": [
        "7. Write a code to append the number 10 to the list [1,2,3,4]"
      ],
      "metadata": {
        "id": "uf6p_BTuLTAO"
      }
    },
    {
      "cell_type": "code",
      "source": [
        "l = [1,2,3,4]\n",
        "print(l)\n",
        "l.append(10)\n",
        "print(l)"
      ],
      "metadata": {
        "colab": {
          "base_uri": "https://localhost:8080/"
        },
        "id": "uIO1c0wTLdua",
        "outputId": "768453c2-59c5-467e-fb6b-94eeea8fda50"
      },
      "execution_count": 28,
      "outputs": [
        {
          "output_type": "stream",
          "name": "stdout",
          "text": [
            "[1, 2, 3, 4]\n",
            "[1, 2, 3, 4, 10]\n"
          ]
        }
      ]
    },
    {
      "cell_type": "markdown",
      "source": [
        "8. Write a code to remove the number 3 from the list [1,2,3,4,5]"
      ],
      "metadata": {
        "id": "L0l5lCZwL9Fq"
      }
    },
    {
      "cell_type": "code",
      "source": [
        "l = [1,2,3,4,5]\n",
        "print(l)\n",
        "l.remove(3)\n",
        "print(l)"
      ],
      "metadata": {
        "colab": {
          "base_uri": "https://localhost:8080/"
        },
        "id": "vyPfLu9wMIL3",
        "outputId": "2bef2bce-0057-40f3-e35e-76bb4ef74ce7"
      },
      "execution_count": 29,
      "outputs": [
        {
          "output_type": "stream",
          "name": "stdout",
          "text": [
            "[1, 2, 3, 4, 5]\n",
            "[1, 2, 4, 5]\n"
          ]
        }
      ]
    },
    {
      "cell_type": "markdown",
      "source": [
        "9. Write a code to access the second element in the list ['a','b','c','d']"
      ],
      "metadata": {
        "id": "0sRWGv1eMRQf"
      }
    },
    {
      "cell_type": "code",
      "source": [
        "l = ['a','b','c','d']\n",
        "l[1]"
      ],
      "metadata": {
        "colab": {
          "base_uri": "https://localhost:8080/",
          "height": 35
        },
        "id": "IN1iwKyOMhTb",
        "outputId": "b27fda02-b1ad-4e6e-b4a9-da72d87db866"
      },
      "execution_count": 31,
      "outputs": [
        {
          "output_type": "execute_result",
          "data": {
            "text/plain": [
              "'b'"
            ],
            "application/vnd.google.colaboratory.intrinsic+json": {
              "type": "string"
            }
          },
          "metadata": {},
          "execution_count": 31
        }
      ]
    },
    {
      "cell_type": "markdown",
      "source": [
        "10. Write a code to reverse the list [10,20,30,40,50]"
      ],
      "metadata": {
        "id": "mpnPdy7KMyop"
      }
    },
    {
      "cell_type": "code",
      "source": [
        "l = [10,20,30,40,50]\n",
        "l.reverse()\n",
        "print(l)"
      ],
      "metadata": {
        "colab": {
          "base_uri": "https://localhost:8080/"
        },
        "id": "gWaQy7pMM6HU",
        "outputId": "695b919c-610d-4892-9e48-1ed4d9c517e1"
      },
      "execution_count": 39,
      "outputs": [
        {
          "output_type": "stream",
          "name": "stdout",
          "text": [
            "[50, 40, 30, 20, 10]\n"
          ]
        }
      ]
    },
    {
      "cell_type": "markdown",
      "source": [
        "11. Write a code to create a tuple with the elements 100,200,300 and print it."
      ],
      "metadata": {
        "id": "NxlXlQfWNV64"
      }
    },
    {
      "cell_type": "code",
      "source": [
        "t = (100,200,300)\n",
        "print(t)"
      ],
      "metadata": {
        "colab": {
          "base_uri": "https://localhost:8080/"
        },
        "id": "_cMLFOGcNhXn",
        "outputId": "d6a657db-d381-4863-c52a-d8cb793e558e"
      },
      "execution_count": 41,
      "outputs": [
        {
          "output_type": "stream",
          "name": "stdout",
          "text": [
            "(100, 200, 300)\n"
          ]
        }
      ]
    },
    {
      "cell_type": "markdown",
      "source": [
        "12. Write a code to access the second-to-last element of the tuple\n",
        "('red','green','blue','yellow')"
      ],
      "metadata": {
        "id": "tyIETkVENsvh"
      }
    },
    {
      "cell_type": "code",
      "source": [
        "t = ('red','green','blue','yellow')\n",
        "print(t[-2])"
      ],
      "metadata": {
        "colab": {
          "base_uri": "https://localhost:8080/"
        },
        "id": "zgopArcdOCv7",
        "outputId": "dc647345-68f4-4529-dbb1-dbeb707c9c1a"
      },
      "execution_count": 42,
      "outputs": [
        {
          "output_type": "stream",
          "name": "stdout",
          "text": [
            "blue\n"
          ]
        }
      ]
    },
    {
      "cell_type": "markdown",
      "source": [
        "13. Write a code to find the minimum number in the tuple (10,20,5,15)"
      ],
      "metadata": {
        "id": "1UVVu9IROQEv"
      }
    },
    {
      "cell_type": "code",
      "source": [
        "t = (10,20,5,15)\n",
        "min_number = min(t)\n",
        "print(min_number)\n"
      ],
      "metadata": {
        "colab": {
          "base_uri": "https://localhost:8080/"
        },
        "id": "QmQcA2moOdz7",
        "outputId": "c88216ad-c639-4f33-c87d-05361af09f93"
      },
      "execution_count": 46,
      "outputs": [
        {
          "output_type": "stream",
          "name": "stdout",
          "text": [
            "5\n"
          ]
        }
      ]
    },
    {
      "cell_type": "markdown",
      "source": [
        "14. Write a code to find the index of the element \"cat\" in the tuple\n",
        "     ('dog','cat','rabbit')"
      ],
      "metadata": {
        "id": "m-KBXgTgPqPe"
      }
    },
    {
      "cell_type": "code",
      "source": [
        "t = ('dog','cat','rabbit')\n",
        "print(t.index('cat'))"
      ],
      "metadata": {
        "colab": {
          "base_uri": "https://localhost:8080/"
        },
        "id": "kDp-L36yP-el",
        "outputId": "7e28e58b-bdef-4cce-a71b-b557cea61a94"
      },
      "execution_count": 47,
      "outputs": [
        {
          "output_type": "stream",
          "name": "stdout",
          "text": [
            "1\n"
          ]
        }
      ]
    },
    {
      "cell_type": "markdown",
      "source": [
        "15. Write a code to create a tuple containing three different fruits and check if \"kiwi\" is in it."
      ],
      "metadata": {
        "id": "Zi2zpVlFQDKx"
      }
    },
    {
      "cell_type": "code",
      "source": [
        "t = ('mango','kiwi','apple')\n",
        "print('kiwi' in t)\n"
      ],
      "metadata": {
        "colab": {
          "base_uri": "https://localhost:8080/"
        },
        "id": "NNi9KT5dQRt_",
        "outputId": "eddd93a9-ec96-4ad3-c98c-adfe9b85bfe4"
      },
      "execution_count": 48,
      "outputs": [
        {
          "output_type": "stream",
          "name": "stdout",
          "text": [
            "True\n"
          ]
        }
      ]
    },
    {
      "cell_type": "markdown",
      "source": [
        "16. Write a code to create a set with the elements 'a','b','c' and print it."
      ],
      "metadata": {
        "id": "2ahA-s73QsWN"
      }
    },
    {
      "cell_type": "code",
      "source": [
        "s = {'a','b','c'}\n",
        "print(s)"
      ],
      "metadata": {
        "colab": {
          "base_uri": "https://localhost:8080/"
        },
        "id": "EISjhoOSQ5M7",
        "outputId": "ca185b4e-4085-48c8-a4cc-3aeb89c52c5a"
      },
      "execution_count": 51,
      "outputs": [
        {
          "output_type": "stream",
          "name": "stdout",
          "text": [
            "{'a', 'b', 'c'}\n"
          ]
        }
      ]
    },
    {
      "cell_type": "markdown",
      "source": [
        "17. Write a code to clear all elements from the set {1,2,3,4,5}"
      ],
      "metadata": {
        "id": "G8MRwCyuRSsb"
      }
    },
    {
      "cell_type": "code",
      "source": [
        "s = {1,2,3,4,5}\n",
        "s.clear()\n",
        "print(s)"
      ],
      "metadata": {
        "colab": {
          "base_uri": "https://localhost:8080/"
        },
        "id": "zWVpd3cVReVM",
        "outputId": "6783dfda-060c-4b17-cdba-ff207f5f22fd"
      },
      "execution_count": 52,
      "outputs": [
        {
          "output_type": "stream",
          "name": "stdout",
          "text": [
            "set()\n"
          ]
        }
      ]
    },
    {
      "cell_type": "markdown",
      "source": [
        "18. Write a code to remove the element 4 from the set {1,2,3,4}"
      ],
      "metadata": {
        "id": "I1RkX9wDRl3N"
      }
    },
    {
      "cell_type": "code",
      "source": [
        "s = {1,2,3,4}\n",
        "s.remove(4)\n",
        "print(s)"
      ],
      "metadata": {
        "colab": {
          "base_uri": "https://localhost:8080/"
        },
        "id": "wKGaQDpkR1V_",
        "outputId": "c0207f0e-2fb0-4334-960a-db883f80ffd6"
      },
      "execution_count": 53,
      "outputs": [
        {
          "output_type": "stream",
          "name": "stdout",
          "text": [
            "{1, 2, 3}\n"
          ]
        }
      ]
    },
    {
      "cell_type": "markdown",
      "source": [
        "19. Write a code to find the union of two sets {1,2,3} and {3,4,5}"
      ],
      "metadata": {
        "id": "pPuuy4r1R5M-"
      }
    },
    {
      "cell_type": "code",
      "source": [
        "s1 = {1,2,3}\n",
        "s2 = {3,4,5}\n",
        "s1 = s1.union(s2)\n",
        "print(s1)"
      ],
      "metadata": {
        "colab": {
          "base_uri": "https://localhost:8080/"
        },
        "id": "cMxq1_qlSJEq",
        "outputId": "8819825d-3a24-471c-c62d-59fa1c9d2946"
      },
      "execution_count": 55,
      "outputs": [
        {
          "output_type": "stream",
          "name": "stdout",
          "text": [
            "{1, 2, 3, 4, 5}\n"
          ]
        }
      ]
    },
    {
      "cell_type": "markdown",
      "source": [
        "20. Write a code to find the intersection of two sets {1,2,3} and {2,3,4}"
      ],
      "metadata": {
        "id": "LZE1vyJXSbi4"
      }
    },
    {
      "cell_type": "code",
      "source": [
        "s1 = { 1,2,3}\n",
        "s2 = {2,3,4}\n",
        "s1 = s1.intersection(s2)\n",
        "print(s1)"
      ],
      "metadata": {
        "colab": {
          "base_uri": "https://localhost:8080/"
        },
        "id": "90CwKpmASpXd",
        "outputId": "3a6acb6b-4f17-457d-9c95-0322a55f6743"
      },
      "execution_count": 56,
      "outputs": [
        {
          "output_type": "stream",
          "name": "stdout",
          "text": [
            "{2, 3}\n"
          ]
        }
      ]
    },
    {
      "cell_type": "markdown",
      "source": [
        "21. Write a code to create a dictionary with the keys \"name\",\"age\", and \"city\",and print it."
      ],
      "metadata": {
        "id": "jmufQPcKS9HW"
      }
    },
    {
      "cell_type": "code",
      "source": [
        "dict = {\"name\":\"Aditi\",\"age\":24,\"city\":\"Mumbai\"}\n",
        "print(dict)"
      ],
      "metadata": {
        "colab": {
          "base_uri": "https://localhost:8080/"
        },
        "id": "lsDSkdgiTMgO",
        "outputId": "fede1c6c-d8b2-477c-978d-74c9c78c4319"
      },
      "execution_count": 57,
      "outputs": [
        {
          "output_type": "stream",
          "name": "stdout",
          "text": [
            "{'name': 'Aditi', 'age': 24, 'city': 'Mumbai'}\n"
          ]
        }
      ]
    },
    {
      "cell_type": "markdown",
      "source": [
        "22. Write a code to add a new key-value pair \"country\": \"USA\" to the dictionary {'name':'John','age':25}"
      ],
      "metadata": {
        "id": "jH3RGVkWTVgs"
      }
    },
    {
      "cell_type": "code",
      "source": [
        "dict = {'name':'John','age':25}\n",
        "dict['country'] = 'USA'\n",
        "print(dict)"
      ],
      "metadata": {
        "colab": {
          "base_uri": "https://localhost:8080/"
        },
        "id": "0wsb7H7tTqV2",
        "outputId": "b0660409-d539-4264-f907-3eebbd6b1cb6"
      },
      "execution_count": 60,
      "outputs": [
        {
          "output_type": "stream",
          "name": "stdout",
          "text": [
            "{'name': 'John', 'age': 25, 'country': 'USA'}\n"
          ]
        }
      ]
    },
    {
      "cell_type": "markdown",
      "source": [
        "23. Write a code to access the value associated with the key \"name\" in the dictionary {'name':'Alice','age':30}"
      ],
      "metadata": {
        "id": "KdQSvU0zT81i"
      }
    },
    {
      "cell_type": "code",
      "source": [
        "dict = {'name':'Alice','age':30}\n",
        "print(dict['name'])"
      ],
      "metadata": {
        "colab": {
          "base_uri": "https://localhost:8080/"
        },
        "id": "D2D5gIdSUTG4",
        "outputId": "269fe5cc-0542-4a6d-d1af-9eb747b279cf"
      },
      "execution_count": 61,
      "outputs": [
        {
          "output_type": "stream",
          "name": "stdout",
          "text": [
            "Alice\n"
          ]
        }
      ]
    },
    {
      "cell_type": "markdown",
      "source": [
        "24. Write a code to remove the key \"age\" from the dictionary\n",
        "         {'name':'Bob','age':22,'city':'Paris'}"
      ],
      "metadata": {
        "id": "yf46S_XlUgmP"
      }
    },
    {
      "cell_type": "code",
      "source": [
        "dict = {'name':'Bob','age':22,'city':'Paris'}\n",
        "dict.pop('age')\n",
        "print(dict)"
      ],
      "metadata": {
        "colab": {
          "base_uri": "https://localhost:8080/"
        },
        "id": "vnEPJpF-U5AG",
        "outputId": "ce544b49-fd2a-47e2-ecda-1ce0c88b8b04"
      },
      "execution_count": 62,
      "outputs": [
        {
          "output_type": "stream",
          "name": "stdout",
          "text": [
            "{'name': 'Bob', 'city': 'Paris'}\n"
          ]
        }
      ]
    },
    {
      "cell_type": "markdown",
      "source": [
        "25. Write a code to check if the key \"city\" exists in the dictionary\n",
        "      {'name':'Alice','city':'Paris'}"
      ],
      "metadata": {
        "id": "WsvhQea9U92j"
      }
    },
    {
      "cell_type": "code",
      "source": [
        "dict = {'name':'Alice','city':'Paris'}\n",
        "print('city' in dict)"
      ],
      "metadata": {
        "colab": {
          "base_uri": "https://localhost:8080/"
        },
        "id": "Ii8OeWqUVSrk",
        "outputId": "802e23ef-c169-4888-eaee-9e5a8d6d0033"
      },
      "execution_count": 63,
      "outputs": [
        {
          "output_type": "stream",
          "name": "stdout",
          "text": [
            "True\n"
          ]
        }
      ]
    },
    {
      "cell_type": "markdown",
      "source": [
        "26. Write a code to create a list,a tuple,and a dictionary , and print them all."
      ],
      "metadata": {
        "id": "XhtI7CNmVbO6"
      }
    },
    {
      "cell_type": "code",
      "source": [
        "l = [\"Aditi\",True,12,34.4]\n",
        "t = (\"Aditi\",True,12,34.4)\n",
        "dict = {\"name\":\"Aditi\",\"age\":24,\"city\":\"Mumbai\"}\n",
        "print(l)\n",
        "print(t)\n",
        "print(dict)"
      ],
      "metadata": {
        "colab": {
          "base_uri": "https://localhost:8080/"
        },
        "id": "giIVwt1LVq1h",
        "outputId": "95510cab-fba2-4e89-c224-850814e85fc4"
      },
      "execution_count": 64,
      "outputs": [
        {
          "output_type": "stream",
          "name": "stdout",
          "text": [
            "['Aditi', True, 12, 34.4]\n",
            "('Aditi', True, 12, 34.4)\n",
            "{'name': 'Aditi', 'age': 24, 'city': 'Mumbai'}\n"
          ]
        }
      ]
    },
    {
      "cell_type": "markdown",
      "source": [
        "27. Write a code to create a list of 5 random numbers between 1 and 100, sort it in ascending order, and print the result.(replaced)"
      ],
      "metadata": {
        "id": "cX9VHj2eV52v"
      }
    },
    {
      "cell_type": "code",
      "source": [
        "l = [77,23,56,98,12]\n",
        "print(l)\n",
        "l.sort()\n",
        "print(l)"
      ],
      "metadata": {
        "colab": {
          "base_uri": "https://localhost:8080/"
        },
        "id": "b-cIJfttWLOi",
        "outputId": "0836d8bd-47d8-4f0d-d912-9725b49ce9db"
      },
      "execution_count": 69,
      "outputs": [
        {
          "output_type": "stream",
          "name": "stdout",
          "text": [
            "[77, 23, 56, 98, 12]\n",
            "[12, 23, 56, 77, 98]\n"
          ]
        }
      ]
    },
    {
      "cell_type": "markdown",
      "source": [
        "28. Write a code to create a list with strings and print the element at the third index."
      ],
      "metadata": {
        "id": "8l3JghcvWlQh"
      }
    },
    {
      "cell_type": "code",
      "source": [
        "l = [\"Aditi\",\"Divya\",\"Janvi\",\"Nikita\",\"Anand\"]\n",
        "print(l[3])"
      ],
      "metadata": {
        "colab": {
          "base_uri": "https://localhost:8080/"
        },
        "id": "3YCJH9REW1vd",
        "outputId": "9c530aef-206d-412e-bdc1-e2cae067f44b"
      },
      "execution_count": 71,
      "outputs": [
        {
          "output_type": "stream",
          "name": "stdout",
          "text": [
            "Nikita\n"
          ]
        }
      ]
    },
    {
      "cell_type": "markdown",
      "source": [
        "29. Write a code to combine two dictionaries into one and print the result."
      ],
      "metadata": {
        "id": "WIb3eoMLXORI"
      }
    },
    {
      "cell_type": "code",
      "source": [
        "dict1 = {'a':1,'b':2,'b':3}\n",
        "dict2 = {'c':4,'d':5,'e':6}\n",
        "print(dict1)\n",
        "print(dict2)\n",
        "combined_dict = {**dict1,**dict2}\n",
        "print(\"Combined Dictionary:\",combined_dict)"
      ],
      "metadata": {
        "colab": {
          "base_uri": "https://localhost:8080/"
        },
        "id": "VOkTBRpIXZDy",
        "outputId": "60868ddd-57e2-4208-a882-bb8acdafc3c7"
      },
      "execution_count": 85,
      "outputs": [
        {
          "output_type": "stream",
          "name": "stdout",
          "text": [
            "{'a': 1, 'b': 3}\n",
            "{'c': 4, 'd': 5, 'e': 6}\n",
            "Combined Dictionary: {'a': 1, 'b': 3, 'c': 4, 'd': 5, 'e': 6}\n"
          ]
        }
      ]
    },
    {
      "cell_type": "markdown",
      "source": [
        "30. Write a code to convert a list of strings into a set."
      ],
      "metadata": {
        "id": "KouUH0f9aVVY"
      }
    },
    {
      "cell_type": "code",
      "source": [
        "l = [\"Aditi\",\"Sneha\",\"Nikita\"]\n",
        "type(l)\n",
        "l2 = set(l)\n",
        "type(l2)\n",
        "print(l2)\n",
        "type(l2)"
      ],
      "metadata": {
        "colab": {
          "base_uri": "https://localhost:8080/"
        },
        "id": "dJxI1Xw5ai_d",
        "outputId": "13b612dc-8320-4807-ae2e-1a9675a7abd9"
      },
      "execution_count": 88,
      "outputs": [
        {
          "output_type": "stream",
          "name": "stdout",
          "text": [
            "{'Aditi', 'Nikita', 'Sneha'}\n"
          ]
        },
        {
          "output_type": "execute_result",
          "data": {
            "text/plain": [
              "set"
            ]
          },
          "metadata": {},
          "execution_count": 88
        }
      ]
    }
  ]
}